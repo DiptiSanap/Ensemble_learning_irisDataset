{
 "cells": [
  {
   "cell_type": "markdown",
   "id": "054b3a5f",
   "metadata": {},
   "source": [
    "# Random forest"
   ]
  },
  {
   "cell_type": "code",
   "execution_count": 1,
   "id": "e1e39e8b",
   "metadata": {},
   "outputs": [],
   "source": [
    "import numpy as np\n",
    "import pandas as pd\n",
    "import matplotlib.pyplot as plt\n",
    "import matplotlib"
   ]
  },
  {
   "cell_type": "code",
   "execution_count": 2,
   "id": "0c49540b",
   "metadata": {},
   "outputs": [],
   "source": [
    "## load the iris dataset\n",
    "\n",
    "from sklearn.datasets import load_iris\n",
    "iris=load_iris()"
   ]
  },
  {
   "cell_type": "code",
   "execution_count": 3,
   "id": "5ade27f3",
   "metadata": {},
   "outputs": [],
   "source": [
    "# store the feature matrix (X) and response vector (y)\n",
    "X = iris.data   \n",
    "y = iris.target"
   ]
  },
  {
   "cell_type": "code",
   "execution_count": 4,
   "id": "b7c8ef87",
   "metadata": {},
   "outputs": [
    {
     "data": {
      "text/plain": [
       "array([0, 0, 0, 0, 0, 0, 0, 0, 0, 0, 0, 0, 0, 0, 0, 0, 0, 0, 0, 0, 0, 0,\n",
       "       0, 0, 0, 0, 0, 0, 0, 0, 0, 0, 0, 0, 0, 0, 0, 0, 0, 0, 0, 0, 0, 0,\n",
       "       0, 0, 0, 0, 0, 0, 1, 1, 1, 1, 1, 1, 1, 1, 1, 1, 1, 1, 1, 1, 1, 1,\n",
       "       1, 1, 1, 1, 1, 1, 1, 1, 1, 1, 1, 1, 1, 1, 1, 1, 1, 1, 1, 1, 1, 1,\n",
       "       1, 1, 1, 1, 1, 1, 1, 1, 1, 1, 1, 1, 2, 2, 2, 2, 2, 2, 2, 2, 2, 2,\n",
       "       2, 2, 2, 2, 2, 2, 2, 2, 2, 2, 2, 2, 2, 2, 2, 2, 2, 2, 2, 2, 2, 2,\n",
       "       2, 2, 2, 2, 2, 2, 2, 2, 2, 2, 2, 2, 2, 2, 2, 2, 2, 2])"
      ]
     },
     "execution_count": 4,
     "metadata": {},
     "output_type": "execute_result"
    }
   ],
   "source": [
    "y"
   ]
  },
  {
   "cell_type": "code",
   "execution_count": 5,
   "id": "0593431c",
   "metadata": {},
   "outputs": [],
   "source": [
    "# splitting X and y into training and testing sets\n",
    "from sklearn.model_selection import train_test_split\n",
    "x_train, x_test, y_train, y_test = train_test_split(X, y, test_size=0.3, random_state=26)"
   ]
  },
  {
   "cell_type": "code",
   "execution_count": 6,
   "id": "b6a332f6",
   "metadata": {},
   "outputs": [
    {
     "data": {
      "text/plain": [
       "RandomForestClassifier(random_state=10)"
      ]
     },
     "execution_count": 6,
     "metadata": {},
     "output_type": "execute_result"
    }
   ],
   "source": [
    "# importing random forest classifier from assemble module\n",
    "from sklearn.ensemble import RandomForestClassifier\n",
    "\n",
    "classifier = RandomForestClassifier(n_estimators = 100,random_state=10)\n",
    "classifier.fit(x_train,y_train)"
   ]
  },
  {
   "cell_type": "code",
   "execution_count": 49,
   "id": "195fbddc",
   "metadata": {},
   "outputs": [],
   "source": [
    "#predicting the values\n",
    "RF_pred=classifier.predict(x_test)"
   ]
  },
  {
   "cell_type": "code",
   "execution_count": 50,
   "id": "2ef14eee",
   "metadata": {},
   "outputs": [
    {
     "data": {
      "text/plain": [
       "array([1, 1, 0, 0, 2, 1, 0, 2, 2, 2, 0, 1, 1, 0, 1, 0, 2, 1, 2, 0, 0, 2,\n",
       "       2, 2, 2, 1, 1, 0, 0, 2, 1, 1, 1, 2, 0, 0, 0, 1, 0, 2, 1, 1, 1, 2,\n",
       "       2])"
      ]
     },
     "execution_count": 50,
     "metadata": {},
     "output_type": "execute_result"
    }
   ],
   "source": [
    "RF_pred"
   ]
  },
  {
   "cell_type": "code",
   "execution_count": 51,
   "id": "4f527369",
   "metadata": {},
   "outputs": [
    {
     "data": {
      "text/plain": [
       "0.9777777777777777"
      ]
     },
     "execution_count": 51,
     "metadata": {},
     "output_type": "execute_result"
    }
   ],
   "source": [
    "from sklearn.metrics import accuracy_score\n",
    "acc=accuracy_score(y_test,RF_pred)\n",
    "acc"
   ]
  },
  {
   "cell_type": "code",
   "execution_count": 52,
   "id": "4f69a5a7",
   "metadata": {},
   "outputs": [
    {
     "data": {
      "text/plain": [
       "array([1])"
      ]
     },
     "execution_count": 52,
     "metadata": {},
     "output_type": "execute_result"
    }
   ],
   "source": [
    "#making prediction on new data \n",
    "\n",
    "classifier.predict([[3, 5, 4, 2]])"
   ]
  },
  {
   "cell_type": "code",
   "execution_count": 53,
   "id": "270127ef",
   "metadata": {},
   "outputs": [
    {
     "data": {
      "text/plain": [
       "'versicolor'"
      ]
     },
     "execution_count": 53,
     "metadata": {},
     "output_type": "execute_result"
    }
   ],
   "source": [
    "species_idx = classifier.predict([[3, 5, 4, 2]])[0]\n",
    "iris.target_names[species_idx]"
   ]
  },
  {
   "cell_type": "code",
   "execution_count": 54,
   "id": "3ec31cc6",
   "metadata": {},
   "outputs": [],
   "source": [
    "from sklearn.model_selection import KFold\n",
    "from sklearn.model_selection import GridSearchCV"
   ]
  },
  {
   "cell_type": "code",
   "execution_count": 55,
   "id": "2c7aa707",
   "metadata": {},
   "outputs": [
    {
     "data": {
      "text/plain": [
       "GridSearchCV(cv=KFold(n_splits=5, random_state=None, shuffle=False),\n",
       "             estimator=RandomForestClassifier(),\n",
       "             param_grid={'max_depth': [8, 9, 10], 'max_features': [1, 2],\n",
       "                         'max_samples': [0.1, 0.2, 0.3, 0.4],\n",
       "                         'n_estimators': [10, 50, 100]})"
      ]
     },
     "execution_count": 55,
     "metadata": {},
     "output_type": "execute_result"
    }
   ],
   "source": [
    "rf_param_grid = {'max_samples': [0.1, 0.2, 0.3, 0.4],\n",
    "                'max_features': [1, 2],\n",
    "                'n_estimators':[10, 50, 100],\n",
    "                'max_depth': [8, 9, 10]\n",
    "                }\n",
    "rf_cv = KFold(n_splits=5)\n",
    "rf_grid = GridSearchCV(RandomForestClassifier(), rf_param_grid, cv=rf_cv)\n",
    "rf_grid.fit(x_train, y_train)"
   ]
  },
  {
   "cell_type": "code",
   "execution_count": 56,
   "id": "408b5dc7",
   "metadata": {},
   "outputs": [
    {
     "name": "stdout",
     "output_type": "stream",
     "text": [
      "RF best Parameters: RandomForestClassifier(max_depth=8, max_features=2, max_samples=0.4)\n",
      "RF best Score: 0.961904761904762\n"
     ]
    }
   ],
   "source": [
    "print('RF best Parameters:', rf_grid.best_estimator_)\n",
    "print('RF best Score:', rf_grid.best_score_)"
   ]
  },
  {
   "cell_type": "markdown",
   "id": "d19814a0",
   "metadata": {},
   "source": [
    "# Adaboost"
   ]
  },
  {
   "cell_type": "code",
   "execution_count": 8,
   "id": "68beb635",
   "metadata": {},
   "outputs": [
    {
     "data": {
      "text/plain": [
       "AdaBoostClassifier(learning_rate=1, n_estimators=100, random_state=40)"
      ]
     },
     "execution_count": 8,
     "metadata": {},
     "output_type": "execute_result"
    }
   ],
   "source": [
    "from sklearn.ensemble import AdaBoostClassifier\n",
    "adclf=AdaBoostClassifier(n_estimators=100,learning_rate=1,random_state=40)\n",
    "adclf.fit(x_train,y_train)"
   ]
  },
  {
   "cell_type": "code",
   "execution_count": 58,
   "id": "cea31ba8",
   "metadata": {},
   "outputs": [],
   "source": [
    "AB_pred=adclf.predict(x_test)"
   ]
  },
  {
   "cell_type": "code",
   "execution_count": 59,
   "id": "34e7a091",
   "metadata": {},
   "outputs": [
    {
     "data": {
      "text/plain": [
       "array([1, 1, 0, 0, 2, 1, 0, 2, 2, 2, 0, 1, 1, 0, 1, 0, 2, 1, 2, 0, 0, 2,\n",
       "       2, 2, 2, 1, 1, 0, 0, 2, 1, 1, 1, 2, 0, 0, 0, 1, 0, 2, 1, 1, 1, 2,\n",
       "       2])"
      ]
     },
     "execution_count": 59,
     "metadata": {},
     "output_type": "execute_result"
    }
   ],
   "source": [
    "AB_pred"
   ]
  },
  {
   "cell_type": "code",
   "execution_count": 60,
   "id": "7abaa682",
   "metadata": {},
   "outputs": [
    {
     "data": {
      "text/plain": [
       "97.77777777777777"
      ]
     },
     "execution_count": 60,
     "metadata": {},
     "output_type": "execute_result"
    }
   ],
   "source": [
    "from sklearn.metrics import accuracy_score\n",
    "acc=accuracy_score(y_test,AB_pred)\n",
    "acc*100"
   ]
  },
  {
   "cell_type": "code",
   "execution_count": 63,
   "id": "4a6f3a01",
   "metadata": {},
   "outputs": [
    {
     "data": {
      "text/plain": [
       "GridSearchCV(cv=KFold(n_splits=5, random_state=None, shuffle=False),\n",
       "             estimator=AdaBoostClassifier(),\n",
       "             param_grid={'learning_rate': [0.01, 0.05, 0.1, 1],\n",
       "                         'n_estimators': [10, 50, 100]})"
      ]
     },
     "execution_count": 63,
     "metadata": {},
     "output_type": "execute_result"
    }
   ],
   "source": [
    "ab_grid_param = {'learning_rate': [0.01, 0.05, 0.1, 1],\n",
    "                 'n_estimators' : [10, 50, 100],\n",
    "                 }\n",
    "ab_cv = KFold(n_splits=5)\n",
    "ab_grid = GridSearchCV(AdaBoostClassifier(), ab_grid_param, cv=ab_cv)\n",
    "ab_grid.fit(x_train, y_train)"
   ]
  },
  {
   "cell_type": "code",
   "execution_count": 64,
   "id": "63612773",
   "metadata": {},
   "outputs": [
    {
     "name": "stdout",
     "output_type": "stream",
     "text": [
      "AB best Parameters: AdaBoostClassifier(learning_rate=1, n_estimators=100)\n",
      "AB best Score: 0.9333333333333332\n"
     ]
    }
   ],
   "source": [
    "print('AB best Parameters:', ab_grid.best_estimator_)\n",
    "print('AB best Score:', ab_grid.best_score_)"
   ]
  },
  {
   "cell_type": "code",
   "execution_count": 62,
   "id": "1068cee6",
   "metadata": {},
   "outputs": [],
   "source": [
    "#AdaBoostClassifier?"
   ]
  },
  {
   "cell_type": "markdown",
   "id": "6720b215",
   "metadata": {},
   "source": [
    "# Gradient boosting"
   ]
  },
  {
   "cell_type": "code",
   "execution_count": 65,
   "id": "ccfabb5c",
   "metadata": {},
   "outputs": [
    {
     "data": {
      "text/plain": [
       "GradientBoostingClassifier(random_state=10)"
      ]
     },
     "execution_count": 65,
     "metadata": {},
     "output_type": "execute_result"
    }
   ],
   "source": [
    "from sklearn.ensemble import GradientBoostingClassifier\n",
    "Gb_CLF=GradientBoostingClassifier(n_estimators=100,learning_rate=0.1,random_state=10)\n",
    "Gb_CLF.fit(x_train,y_train)"
   ]
  },
  {
   "cell_type": "code",
   "execution_count": 66,
   "id": "4f3ee98a",
   "metadata": {},
   "outputs": [
    {
     "data": {
      "text/plain": [
       "array([1, 1, 0, 0, 2, 1, 0, 2, 2, 2, 0, 1, 1, 0, 1, 0, 2, 1, 2, 0, 0, 2,\n",
       "       2, 2, 2, 1, 1, 0, 0, 2, 1, 1, 1, 2, 0, 0, 0, 1, 0, 2, 1, 1, 1, 2,\n",
       "       2])"
      ]
     },
     "execution_count": 66,
     "metadata": {},
     "output_type": "execute_result"
    }
   ],
   "source": [
    "Gb_pred=Gb_CLF.predict(x_test)\n",
    "Gb_pred"
   ]
  },
  {
   "cell_type": "code",
   "execution_count": 67,
   "id": "6511ed07",
   "metadata": {},
   "outputs": [
    {
     "name": "stdout",
     "output_type": "stream",
     "text": [
      "Accuracy score \n",
      " 97.77777777777777\n",
      "\n",
      "confusion matrix\n",
      " [[14  0  0]\n",
      " [ 0 15  0]\n",
      " [ 0  1 15]]\n",
      "\n",
      "Classification report\n",
      "               precision    recall  f1-score   support\n",
      "\n",
      "           0       1.00      1.00      1.00        14\n",
      "           1       0.94      1.00      0.97        15\n",
      "           2       1.00      0.94      0.97        16\n",
      "\n",
      "    accuracy                           0.98        45\n",
      "   macro avg       0.98      0.98      0.98        45\n",
      "weighted avg       0.98      0.98      0.98        45\n",
      "\n"
     ]
    }
   ],
   "source": [
    "from sklearn.metrics import accuracy_score,confusion_matrix,classification_report\n",
    "acc=accuracy_score(y_test,Gb_pred)\n",
    "print(\"Accuracy score \\n\" ,acc*100)\n",
    "\n",
    "print(\"\\nconfusion matrix\\n\",confusion_matrix(y_test,Gb_pred))\n",
    "\n",
    "print(\"\\nClassification report\\n\",classification_report(y_test,Gb_pred))"
   ]
  },
  {
   "cell_type": "code",
   "execution_count": 68,
   "id": "4835408f",
   "metadata": {},
   "outputs": [
    {
     "data": {
      "text/plain": [
       "GridSearchCV(cv=KFold(n_splits=5, random_state=None, shuffle=False),\n",
       "             estimator=GradientBoostingClassifier(),\n",
       "             param_grid={'learning_rate': [0.01, 0.05, 0.1, 1],\n",
       "                         'max_depth': [2, 5, 8, 11], 'max_features': [1, 2],\n",
       "                         'n_estimators': [10, 50, 100]})"
      ]
     },
     "execution_count": 68,
     "metadata": {},
     "output_type": "execute_result"
    }
   ],
   "source": [
    "gb_grid_param = {'learning_rate': [0.01, 0.05, 0.1, 1],\n",
    "                 'n_estimators' : [10, 50, 100],\n",
    "                 'max_depth': [2, 5, 8, 11],\n",
    "                 'max_features': [1,2]}\n",
    "gb_cv = KFold(n_splits=5)\n",
    "gb_grid = GridSearchCV(GradientBoostingClassifier(), gb_grid_param, cv=gb_cv)\n",
    "gb_grid.fit(x_train, y_train)"
   ]
  },
  {
   "cell_type": "code",
   "execution_count": 69,
   "id": "276b01df",
   "metadata": {},
   "outputs": [
    {
     "name": "stdout",
     "output_type": "stream",
     "text": [
      "GB best Parameters: GradientBoostingClassifier(learning_rate=0.05, max_depth=2, max_features=1)\n",
      "GB best Score: 0.9523809523809523\n"
     ]
    }
   ],
   "source": [
    "print('GB best Parameters:', gb_grid.best_estimator_)\n",
    "print('GB best Score:', gb_grid.best_score_)"
   ]
  },
  {
   "cell_type": "code",
   "execution_count": 72,
   "id": "4edf8cf6",
   "metadata": {},
   "outputs": [
    {
     "name": "stdout",
     "output_type": "stream",
     "text": [
      "\n",
      "Accuray:\n",
      " 0.9777777777777777\n",
      "\n",
      "Confusion Matrix:\n",
      " [[14  0  0]\n",
      " [ 0 15  0]\n",
      " [ 0  1 15]]\n",
      "\n",
      "Classification Report:\n",
      "               precision    recall  f1-score   support\n",
      "\n",
      "           0       1.00      1.00      1.00        14\n",
      "           1       0.94      1.00      0.97        15\n",
      "           2       1.00      0.94      0.97        16\n",
      "\n",
      "    accuracy                           0.98        45\n",
      "   macro avg       0.98      0.98      0.98        45\n",
      "weighted avg       0.98      0.98      0.98        45\n",
      "\n"
     ]
    }
   ],
   "source": [
    "gb_y_pred = gb_grid.predict(x_test)\n",
    "print('\\nAccuray:\\n', accuracy_score(y_test, gb_y_pred))\n",
    "print('\\nConfusion Matrix:\\n', confusion_matrix(y_test, gb_y_pred))\n",
    "print('\\nClassification Report:\\n', classification_report(y_test, gb_y_pred))\n"
   ]
  },
  {
   "cell_type": "markdown",
   "id": "e45b98d6",
   "metadata": {},
   "source": [
    "# xgboost"
   ]
  },
  {
   "cell_type": "code",
   "execution_count": 74,
   "id": "9d326c2b",
   "metadata": {
    "scrolled": true
   },
   "outputs": [
    {
     "name": "stdout",
     "output_type": "stream",
     "text": [
      "Collecting xgboost\n",
      "  Downloading xgboost-1.6.1-py3-none-win_amd64.whl (125.4 MB)\n",
      "Requirement already satisfied: numpy in c:\\users\\djs\\anaconda3\\lib\\site-packages (from xgboost) (1.21.5)\n",
      "Requirement already satisfied: scipy in c:\\users\\djs\\anaconda3\\lib\\site-packages (from xgboost) (1.7.3)\n",
      "Installing collected packages: xgboost\n",
      "Successfully installed xgboost-1.6.1\n",
      "Note: you may need to restart the kernel to use updated packages.\n"
     ]
    }
   ],
   "source": [
    "#pip install xgboost"
   ]
  },
  {
   "cell_type": "code",
   "execution_count": 75,
   "id": "43c976fe",
   "metadata": {
    "scrolled": true
   },
   "outputs": [],
   "source": [
    "import xgboost as xgb "
   ]
  },
  {
   "cell_type": "code",
   "execution_count": 76,
   "id": "85071af1",
   "metadata": {},
   "outputs": [],
   "source": [
    "data_dmatrix = xgb.DMatrix(data=X,label=y)"
   ]
  },
  {
   "cell_type": "code",
   "execution_count": 77,
   "id": "cf793cf4",
   "metadata": {},
   "outputs": [
    {
     "data": {
      "text/plain": [
       "XGBClassifier(base_score=0.5, booster='gbtree', callbacks=None,\n",
       "              colsample_bylevel=1, colsample_bynode=1, colsample_bytree=1,\n",
       "              early_stopping_rounds=None, enable_categorical=False,\n",
       "              eval_metric=None, gamma=0, gpu_id=-1, grow_policy='depthwise',\n",
       "              importance_type=None, interaction_constraints='',\n",
       "              learning_rate=0.300000012, max_bin=256, max_cat_to_onehot=4,\n",
       "              max_delta_step=0, max_depth=6, max_leaves=0, min_child_weight=1,\n",
       "              missing=nan, monotone_constraints='()', n_estimators=100,\n",
       "              n_jobs=0, num_parallel_tree=1, objective='multi:softprob',\n",
       "              predictor='auto', random_state=0, reg_alpha=0, ...)"
      ]
     },
     "execution_count": 77,
     "metadata": {},
     "output_type": "execute_result"
    }
   ],
   "source": [
    "xg_clf=xgb.XGBClassifier()\n",
    "xg_clf.fit(x_train,y_train)"
   ]
  },
  {
   "cell_type": "code",
   "execution_count": 78,
   "id": "63d2d9db",
   "metadata": {},
   "outputs": [],
   "source": [
    "xg_pred=xg_clf.predict(x_test)"
   ]
  },
  {
   "cell_type": "code",
   "execution_count": 79,
   "id": "4d4a8ca9",
   "metadata": {},
   "outputs": [
    {
     "data": {
      "text/plain": [
       "0.9777777777777777"
      ]
     },
     "execution_count": 79,
     "metadata": {},
     "output_type": "execute_result"
    }
   ],
   "source": [
    "from sklearn.metrics import accuracy_score\n",
    "acc=accuracy_score(y_test,xg_pred)\n",
    "acc"
   ]
  },
  {
   "cell_type": "code",
   "execution_count": 80,
   "id": "7ea3fdca",
   "metadata": {},
   "outputs": [
    {
     "name": "stdout",
     "output_type": "stream",
     "text": [
      "Accuracy score \n",
      " 97.77777777777777\n",
      "\n",
      "confusion matrix\n",
      " [[14  0  0]\n",
      " [ 0 15  0]\n",
      " [ 0  1 15]]\n",
      "\n",
      "Classification report\n",
      "               precision    recall  f1-score   support\n",
      "\n",
      "           0       1.00      1.00      1.00        14\n",
      "           1       0.94      1.00      0.97        15\n",
      "           2       1.00      0.94      0.97        16\n",
      "\n",
      "    accuracy                           0.98        45\n",
      "   macro avg       0.98      0.98      0.98        45\n",
      "weighted avg       0.98      0.98      0.98        45\n",
      "\n"
     ]
    }
   ],
   "source": [
    "from sklearn.metrics import accuracy_score,confusion_matrix,classification_report\n",
    "acc=accuracy_score(y_test,xg_pred)\n",
    "print(\"Accuracy score \\n\" ,acc*100)\n",
    "\n",
    "print(\"\\nconfusion matrix\\n\",confusion_matrix(y_test,xg_pred))\n",
    "\n",
    "print(\"\\nClassification report\\n\",classification_report(y_test,xg_pred))"
   ]
  },
  {
   "cell_type": "code",
   "execution_count": null,
   "id": "fdc1f387",
   "metadata": {},
   "outputs": [],
   "source": []
  }
 ],
 "metadata": {
  "kernelspec": {
   "display_name": "Python 3 (ipykernel)",
   "language": "python",
   "name": "python3"
  },
  "language_info": {
   "codemirror_mode": {
    "name": "ipython",
    "version": 3
   },
   "file_extension": ".py",
   "mimetype": "text/x-python",
   "name": "python",
   "nbconvert_exporter": "python",
   "pygments_lexer": "ipython3",
   "version": "3.9.12"
  }
 },
 "nbformat": 4,
 "nbformat_minor": 5
}
